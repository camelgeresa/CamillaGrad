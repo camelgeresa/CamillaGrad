{
 "cells": [
  {
   "cell_type": "code",
   "execution_count": 1,
   "metadata": {},
   "outputs": [
    {
     "name": "stdout",
     "output_type": "stream",
     "text": [
      "2.4.0\n"
     ]
    }
   ],
   "source": [
    "import torch\n",
    "print(torch.__version__)"
   ]
  },
  {
   "cell_type": "code",
   "execution_count": 2,
   "metadata": {},
   "outputs": [],
   "source": [
    "import numpy as np\n",
    "import matplotlib.pyplot as plt\n",
    "from tensor import Tensor\n",
    "from module import Module\n",
    "from layers.Linear import Linear\n",
    "from layers.Convolution import Conv2d"
   ]
  },
  {
   "cell_type": "code",
   "execution_count": 3,
   "metadata": {},
   "outputs": [],
   "source": [
    "import pickle\n",
    "\n",
    "with open(r'C:\\Users\\Camel\\CamillaGrad\\data\\mini-mnist-1000.pickle', 'rb') as f:\n",
    "    data = pickle.load(f)"
   ]
  },
  {
   "cell_type": "code",
   "execution_count": 4,
   "metadata": {},
   "outputs": [],
   "source": [
    "imgs = data['images']"
   ]
  },
  {
   "cell_type": "code",
   "execution_count": 5,
   "metadata": {},
   "outputs": [
    {
     "data": {
      "text/plain": [
       "<matplotlib.image.AxesImage at 0x28355757dd0>"
      ]
     },
     "execution_count": 5,
     "metadata": {},
     "output_type": "execute_result"
    },
    {
     "data": {
      "image/png": "[encoded data removed]",
      "text/plain": [
       "<Figure size 640x480 with 1 Axes>"
      ]
     },
     "metadata": {},
     "output_type": "display_data"
    }
   ],
   "source": [
    "plt.imshow(imgs[0])"
   ]
  },
  {
   "cell_type": "code",
   "execution_count": 6,
   "metadata": {},
   "outputs": [],
   "source": [
    "from layers.Convolution import MaxPool\n",
    "from layers.BatchNorm import BatchNorm"
   ]
  },
  {
   "cell_type": "code",
   "execution_count": 7,
   "metadata": {},
   "outputs": [
    {
     "data": {
      "text/plain": [
       "(28, 28)"
      ]
     },
     "execution_count": 7,
     "metadata": {},
     "output_type": "execute_result"
    }
   ],
   "source": [
    "imgs[0].shape"
   ]
  },
  {
   "cell_type": "code",
   "execution_count": 8,
   "metadata": {},
   "outputs": [],
   "source": [
    "class MnistModel(Module):\n",
    "    def __init__(self):\n",
    "        super().__init__()\n",
    "\n",
    "        self.cnn = Conv2d(1, 16, (3,3))\n",
    "        self.bn = BatchNorm(16)\n",
    "        self.max_pool = MaxPool((2,2),2)\n",
    "        self.linear = Linear(16*13*13, 10)\n",
    "\n",
    "    def forward(self, x):\n",
    "        BS = x.shape[0]\n",
    "        x = self.cnn(x).relu()\n",
    "        x = self.max_pool(x)\n",
    "        x = self.bn(x)\n",
    "        print(f'{x.shape=}')\n",
    "        x = x.reshape((BS,-1))\n",
    "        print(f'{x.shape=}')\n",
    "        out = self.linear(x)\n",
    "        return out"
   ]
  },
  {
   "cell_type": "code",
   "execution_count": 9,
   "metadata": {},
   "outputs": [],
   "source": [
    "ims, labs = Tensor(np.array(imgs)[:,np.newaxis]), Tensor(np.array(data['labels']))"
   ]
  },
  {
   "cell_type": "code",
   "execution_count": 10,
   "metadata": {},
   "outputs": [],
   "source": [
    "idx = np.random.randint(0, 1000, 100)\n",
    "train_ims = ims[idx]\n",
    "train_labs = labs[idx]"
   ]
  },
  {
   "cell_type": "code",
   "execution_count": 11,
   "metadata": {},
   "outputs": [],
   "source": [
    "train_ims = Tensor(train_ims.data)\n",
    "train_labs = Tensor(train_labs.data)"
   ]
  },
  {
   "cell_type": "code",
   "execution_count": 12,
   "metadata": {},
   "outputs": [
    {
     "name": "stdout",
     "output_type": "stream",
     "text": [
      "x.shape=(100, 16, 13, 13)\n",
      "x.shape=(100, 2704)\n",
      "epoch: 1 | loss: 2.302E+00\n",
      "x.shape=(100, 16, 13, 13)\n",
      "x.shape=(100, 2704)\n",
      "epoch: 2 | loss: 2.203E+00\n",
      "x.shape=(100, 16, 13, 13)\n",
      "x.shape=(100, 2704)\n",
      "epoch: 3 | loss: 2.073E+00\n",
      "x.shape=(100, 16, 13, 13)\n",
      "x.shape=(100, 2704)\n",
      "epoch: 4 | loss: 1.889E+00\n",
      "x.shape=(100, 16, 13, 13)\n",
      "x.shape=(100, 2704)\n",
      "epoch: 5 | loss: 1.819E+00\n",
      "x.shape=(100, 16, 13, 13)\n",
      "x.shape=(100, 2704)\n",
      "epoch: 6 | loss: 1.749E+00\n",
      "x.shape=(100, 16, 13, 13)\n",
      "x.shape=(100, 2704)\n",
      "epoch: 7 | loss: 1.613E+00\n",
      "x.shape=(100, 16, 13, 13)\n",
      "x.shape=(100, 2704)\n",
      "epoch: 8 | loss: 1.445E+00\n",
      "x.shape=(100, 16, 13, 13)\n",
      "x.shape=(100, 2704)\n",
      "epoch: 9 | loss: 1.282E+00\n",
      "x.shape=(100, 16, 13, 13)\n",
      "x.shape=(100, 2704)\n",
      "epoch: 10 | loss: 1.132E+00\n",
      "x.shape=(100, 16, 13, 13)\n",
      "x.shape=(100, 2704)\n",
      "epoch: 11 | loss: 9.785E-01\n",
      "x.shape=(100, 16, 13, 13)\n",
      "x.shape=(100, 2704)\n",
      "epoch: 12 | loss: 8.351E-01\n",
      "x.shape=(100, 16, 13, 13)\n",
      "x.shape=(100, 2704)\n",
      "epoch: 13 | loss: 6.927E-01\n",
      "x.shape=(100, 16, 13, 13)\n",
      "x.shape=(100, 2704)\n",
      "epoch: 14 | loss: 5.667E-01\n",
      "x.shape=(100, 16, 13, 13)\n",
      "x.shape=(100, 2704)\n",
      "epoch: 15 | loss: 4.614E-01\n",
      "x.shape=(100, 16, 13, 13)\n",
      "x.shape=(100, 2704)\n",
      "epoch: 16 | loss: 3.733E-01\n",
      "x.shape=(100, 16, 13, 13)\n",
      "x.shape=(100, 2704)\n",
      "epoch: 17 | loss: 2.981E-01\n",
      "x.shape=(100, 16, 13, 13)\n",
      "x.shape=(100, 2704)\n",
      "epoch: 18 | loss: 2.375E-01\n",
      "x.shape=(100, 16, 13, 13)\n",
      "x.shape=(100, 2704)\n",
      "epoch: 19 | loss: 1.913E-01\n",
      "x.shape=(100, 16, 13, 13)\n",
      "x.shape=(100, 2704)\n",
      "epoch: 20 | loss: 1.610E-01\n",
      "x.shape=(100, 16, 13, 13)\n",
      "x.shape=(100, 2704)\n",
      "epoch: 21 | loss: 1.224E-01\n",
      "x.shape=(100, 16, 13, 13)\n",
      "x.shape=(100, 2704)\n",
      "epoch: 22 | loss: 9.047E-02\n",
      "x.shape=(100, 16, 13, 13)\n",
      "x.shape=(100, 2704)\n"
     ]
    },
    {
     "name": "stderr",
     "output_type": "stream",
     "text": [
      "c:\\Users\\Camel\\CamillaGrad\\src\\layers\\BatchNorm.py:53: RuntimeWarning: invalid value encountered in power\n",
      "  dx = dx_hat*(var-self.eps)**-0.5 +  dVar*2*(x - mu)*1/(BS+1) + dMu/BS\n"
     ]
    },
    {
     "name": "stdout",
     "output_type": "stream",
     "text": [
      "epoch: 23 | loss: 6.267E-02\n",
      "x.shape=(100, 16, 13, 13)\n",
      "x.shape=(100, 2704)\n",
      "epoch: 24 | loss: 4.417E-02\n",
      "x.shape=(100, 16, 13, 13)\n",
      "x.shape=(100, 2704)\n",
      "epoch: 25 | loss: 3.139E-02\n",
      "x.shape=(100, 16, 13, 13)\n",
      "x.shape=(100, 2704)\n",
      "epoch: 26 | loss: 2.268E-02\n",
      "x.shape=(100, 16, 13, 13)\n",
      "x.shape=(100, 2704)\n",
      "epoch: 27 | loss: 1.657E-02\n",
      "x.shape=(100, 16, 13, 13)\n",
      "x.shape=(100, 2704)\n",
      "epoch: 28 | loss: 1.218E-02\n",
      "x.shape=(100, 16, 13, 13)\n",
      "x.shape=(100, 2704)\n",
      "epoch: 29 | loss: 9.078E-03\n",
      "x.shape=(100, 16, 13, 13)\n",
      "x.shape=(100, 2704)\n",
      "epoch: 30 | loss: 6.857E-03\n",
      "x.shape=(100, 16, 13, 13)\n",
      "x.shape=(100, 2704)\n",
      "epoch: 31 | loss: 5.269E-03\n",
      "x.shape=(100, 16, 13, 13)\n",
      "x.shape=(100, 2704)\n",
      "epoch: 32 | loss: 4.120E-03\n",
      "x.shape=(100, 16, 13, 13)\n",
      "x.shape=(100, 2704)\n",
      "epoch: 33 | loss: 3.280E-03\n",
      "x.shape=(100, 16, 13, 13)\n",
      "x.shape=(100, 2704)\n",
      "epoch: 34 | loss: 2.660E-03\n",
      "x.shape=(100, 16, 13, 13)\n",
      "x.shape=(100, 2704)\n",
      "epoch: 35 | loss: 2.192E-03\n",
      "x.shape=(100, 16, 13, 13)\n",
      "x.shape=(100, 2704)\n",
      "epoch: 36 | loss: 1.831E-03\n",
      "x.shape=(100, 16, 13, 13)\n",
      "x.shape=(100, 2704)\n",
      "epoch: 37 | loss: 1.548E-03\n",
      "x.shape=(100, 16, 13, 13)\n",
      "x.shape=(100, 2704)\n",
      "epoch: 38 | loss: 1.323E-03\n",
      "x.shape=(100, 16, 13, 13)\n",
      "x.shape=(100, 2704)\n",
      "epoch: 39 | loss: 1.144E-03\n",
      "x.shape=(100, 16, 13, 13)\n",
      "x.shape=(100, 2704)\n",
      "epoch: 40 | loss: 9.987E-04\n",
      "x.shape=(100, 16, 13, 13)\n",
      "x.shape=(100, 2704)\n",
      "epoch: 41 | loss: 8.809E-04\n",
      "x.shape=(100, 16, 13, 13)\n",
      "x.shape=(100, 2704)\n",
      "epoch: 42 | loss: 7.834E-04\n",
      "x.shape=(100, 16, 13, 13)\n",
      "x.shape=(100, 2704)\n",
      "epoch: 43 | loss: 7.031E-04\n",
      "x.shape=(100, 16, 13, 13)\n",
      "x.shape=(100, 2704)\n",
      "epoch: 44 | loss: 6.363E-04\n",
      "x.shape=(100, 16, 13, 13)\n",
      "x.shape=(100, 2704)\n",
      "epoch: 45 | loss: 5.798E-04\n",
      "x.shape=(100, 16, 13, 13)\n",
      "x.shape=(100, 2704)\n",
      "epoch: 46 | loss: 5.316E-04\n",
      "x.shape=(100, 16, 13, 13)\n",
      "x.shape=(100, 2704)\n",
      "epoch: 47 | loss: 4.905E-04\n",
      "x.shape=(100, 16, 13, 13)\n",
      "x.shape=(100, 2704)\n",
      "epoch: 48 | loss: 4.553E-04\n",
      "x.shape=(100, 16, 13, 13)\n",
      "x.shape=(100, 2704)\n",
      "epoch: 49 | loss: 4.252E-04\n",
      "x.shape=(100, 16, 13, 13)\n",
      "x.shape=(100, 2704)\n",
      "epoch: 50 | loss: 3.995E-04\n",
      "x.shape=(100, 16, 13, 13)\n",
      "x.shape=(100, 2704)\n",
      "epoch: 51 | loss: 3.773E-04\n",
      "x.shape=(100, 16, 13, 13)\n",
      "x.shape=(100, 2704)\n",
      "epoch: 52 | loss: 3.577E-04\n",
      "x.shape=(100, 16, 13, 13)\n",
      "x.shape=(100, 2704)\n",
      "epoch: 53 | loss: 3.404E-04\n",
      "x.shape=(100, 16, 13, 13)\n",
      "x.shape=(100, 2704)\n",
      "epoch: 54 | loss: 3.253E-04\n",
      "x.shape=(100, 16, 13, 13)\n",
      "x.shape=(100, 2704)\n",
      "epoch: 55 | loss: 3.119E-04\n",
      "x.shape=(100, 16, 13, 13)\n",
      "x.shape=(100, 2704)\n",
      "epoch: 56 | loss: 3.000E-04\n",
      "x.shape=(100, 16, 13, 13)\n",
      "x.shape=(100, 2704)\n",
      "epoch: 57 | loss: 2.895E-04\n",
      "x.shape=(100, 16, 13, 13)\n",
      "x.shape=(100, 2704)\n",
      "epoch: 58 | loss: 2.800E-04\n",
      "x.shape=(100, 16, 13, 13)\n",
      "x.shape=(100, 2704)\n",
      "epoch: 59 | loss: 2.716E-04\n",
      "x.shape=(100, 16, 13, 13)\n",
      "x.shape=(100, 2704)\n",
      "epoch: 60 | loss: 2.640E-04\n",
      "x.shape=(100, 16, 13, 13)\n",
      "x.shape=(100, 2704)\n",
      "epoch: 61 | loss: 2.572E-04\n",
      "x.shape=(100, 16, 13, 13)\n",
      "x.shape=(100, 2704)\n",
      "epoch: 62 | loss: 2.511E-04\n",
      "x.shape=(100, 16, 13, 13)\n",
      "x.shape=(100, 2704)\n",
      "epoch: 63 | loss: 2.456E-04\n",
      "x.shape=(100, 16, 13, 13)\n",
      "x.shape=(100, 2704)\n",
      "epoch: 64 | loss: 2.405E-04\n",
      "x.shape=(100, 16, 13, 13)\n",
      "x.shape=(100, 2704)\n",
      "epoch: 65 | loss: 2.359E-04\n",
      "x.shape=(100, 16, 13, 13)\n",
      "x.shape=(100, 2704)\n",
      "epoch: 66 | loss: 2.317E-04\n",
      "x.shape=(100, 16, 13, 13)\n",
      "x.shape=(100, 2704)\n",
      "epoch: 67 | loss: 2.278E-04\n",
      "x.shape=(100, 16, 13, 13)\n",
      "x.shape=(100, 2704)\n",
      "epoch: 68 | loss: 2.242E-04\n",
      "x.shape=(100, 16, 13, 13)\n",
      "x.shape=(100, 2704)\n",
      "epoch: 69 | loss: 2.210E-04\n",
      "x.shape=(100, 16, 13, 13)\n",
      "x.shape=(100, 2704)\n",
      "epoch: 70 | loss: 2.179E-04\n",
      "x.shape=(100, 16, 13, 13)\n",
      "x.shape=(100, 2704)\n",
      "epoch: 71 | loss: 2.152E-04\n",
      "x.shape=(100, 16, 13, 13)\n",
      "x.shape=(100, 2704)\n",
      "epoch: 72 | loss: 2.126E-04\n",
      "x.shape=(100, 16, 13, 13)\n",
      "x.shape=(100, 2704)\n",
      "epoch: 73 | loss: 2.102E-04\n",
      "x.shape=(100, 16, 13, 13)\n",
      "x.shape=(100, 2704)\n",
      "epoch: 74 | loss: 2.080E-04\n",
      "x.shape=(100, 16, 13, 13)\n",
      "x.shape=(100, 2704)\n",
      "epoch: 75 | loss: 2.059E-04\n",
      "x.shape=(100, 16, 13, 13)\n",
      "x.shape=(100, 2704)\n",
      "epoch: 76 | loss: 2.039E-04\n",
      "x.shape=(100, 16, 13, 13)\n",
      "x.shape=(100, 2704)\n",
      "epoch: 77 | loss: 2.021E-04\n",
      "x.shape=(100, 16, 13, 13)\n",
      "x.shape=(100, 2704)\n",
      "epoch: 78 | loss: 2.004E-04\n",
      "x.shape=(100, 16, 13, 13)\n",
      "x.shape=(100, 2704)\n",
      "epoch: 79 | loss: 1.987E-04\n",
      "x.shape=(100, 16, 13, 13)\n",
      "x.shape=(100, 2704)\n",
      "epoch: 80 | loss: 1.972E-04\n",
      "x.shape=(100, 16, 13, 13)\n",
      "x.shape=(100, 2704)\n",
      "epoch: 81 | loss: 1.957E-04\n",
      "x.shape=(100, 16, 13, 13)\n",
      "x.shape=(100, 2704)\n",
      "epoch: 82 | loss: 1.944E-04\n",
      "x.shape=(100, 16, 13, 13)\n",
      "x.shape=(100, 2704)\n",
      "epoch: 83 | loss: 1.930E-04\n",
      "x.shape=(100, 16, 13, 13)\n",
      "x.shape=(100, 2704)\n",
      "epoch: 84 | loss: 1.918E-04\n",
      "x.shape=(100, 16, 13, 13)\n",
      "x.shape=(100, 2704)\n",
      "epoch: 85 | loss: 1.906E-04\n",
      "x.shape=(100, 16, 13, 13)\n",
      "x.shape=(100, 2704)\n",
      "epoch: 86 | loss: 1.894E-04\n",
      "x.shape=(100, 16, 13, 13)\n",
      "x.shape=(100, 2704)\n",
      "epoch: 87 | loss: 1.883E-04\n",
      "x.shape=(100, 16, 13, 13)\n",
      "x.shape=(100, 2704)\n",
      "epoch: 88 | loss: 1.872E-04\n",
      "x.shape=(100, 16, 13, 13)\n",
      "x.shape=(100, 2704)\n",
      "epoch: 89 | loss: 1.862E-04\n",
      "x.shape=(100, 16, 13, 13)\n",
      "x.shape=(100, 2704)\n",
      "epoch: 90 | loss: 1.852E-04\n",
      "x.shape=(100, 16, 13, 13)\n",
      "x.shape=(100, 2704)\n",
      "epoch: 91 | loss: 1.842E-04\n",
      "x.shape=(100, 16, 13, 13)\n",
      "x.shape=(100, 2704)\n",
      "epoch: 92 | loss: 1.833E-04\n",
      "x.shape=(100, 16, 13, 13)\n",
      "x.shape=(100, 2704)\n",
      "epoch: 93 | loss: 1.824E-04\n",
      "x.shape=(100, 16, 13, 13)\n",
      "x.shape=(100, 2704)\n",
      "epoch: 94 | loss: 1.815E-04\n",
      "x.shape=(100, 16, 13, 13)\n",
      "x.shape=(100, 2704)\n",
      "epoch: 95 | loss: 1.807E-04\n",
      "x.shape=(100, 16, 13, 13)\n",
      "x.shape=(100, 2704)\n",
      "epoch: 96 | loss: 1.798E-04\n",
      "x.shape=(100, 16, 13, 13)\n",
      "x.shape=(100, 2704)\n",
      "epoch: 97 | loss: 1.790E-04\n",
      "x.shape=(100, 16, 13, 13)\n",
      "x.shape=(100, 2704)\n",
      "epoch: 98 | loss: 1.782E-04\n",
      "x.shape=(100, 16, 13, 13)\n",
      "x.shape=(100, 2704)\n",
      "epoch: 99 | loss: 1.774E-04\n",
      "x.shape=(100, 16, 13, 13)\n",
      "x.shape=(100, 2704)\n",
      "epoch: 100 | loss: 1.766E-04\n"
     ]
    }
   ],
   "source": [
    "model = MnistModel()\n",
    "from Optimizer.Adam import Adam\n",
    "optimizer = Adam(model.parameters(), learning_rate=0.01)\n",
    "from losses import CrossEntropyLossWithLogits\n",
    "\n",
    "criterion = CrossEntropyLossWithLogits()\n",
    "\n",
    "EPOCHS = 100\n",
    "\n",
    "history = []\n",
    "for epoch in range(1, EPOCHS+1):\n",
    "    # Gradients accumulates, therefore we need to set them to zero at each iteration\n",
    "    optimizer.zero_grad()\n",
    "    # Predictions\n",
    "    predictions = model(train_ims)\n",
    "    loss = criterion(predictions, train_labs)\n",
    "    # Compute the gradient\n",
    "    loss.backward()\n",
    "    # Update the parameters\n",
    "    optimizer.step()\n",
    "    # Record the loss for plotting\n",
    "    history.append(loss.data)\n",
    "    print(f\"epoch: {epoch} | loss: {loss.data:1.3E}\")"
   ]
  },
  {
   "cell_type": "code",
   "execution_count": 17,
   "metadata": {},
   "outputs": [
    {
     "data": {
      "text/plain": [
       "[<matplotlib.lines.Line2D at 0x2830040d4d0>]"
      ]
     },
     "execution_count": 17,
     "metadata": {},
     "output_type": "execute_result"
    },
    {
     "data": {
      "image/png": "[encoded data removed]",
      "text/plain": [
       "<Figure size 640x480 with 1 Axes>"
      ]
     },
     "metadata": {},
     "output_type": "display_data"
    }
   ],
   "source": [
    "plt.plot(history)"
   ]
  }
 ],
 "metadata": {
  "kernelspec": {
   "display_name": "camillagrad",
   "language": "python",
   "name": "python3"
  },
  "language_info": {
   "codemirror_mode": {
    "name": "ipython",
    "version": 3
   },
   "file_extension": ".py",
   "mimetype": "text/x-python",
   "name": "python",
   "nbconvert_exporter": "python",
   "pygments_lexer": "ipython3",
   "version": "3.11.5"
  }
 },
 "nbformat": 4,
 "nbformat_minor": 2
}
